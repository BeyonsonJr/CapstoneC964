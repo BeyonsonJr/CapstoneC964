{
 "cells": [
  {
   "cell_type": "markdown",
   "id": "98a5c295",
   "metadata": {},
   "source": [
    "# Videogame Sales and Reviews Report"
   ]
  },
  {
   "cell_type": "code",
   "execution_count": 1,
   "id": "c5475312",
   "metadata": {
    "scrolled": false
   },
   "outputs": [],
   "source": [
    "import csv\n",
    "import math\n",
    "import matplotlib.pyplot as plt\n",
    "import seaborn as sns\n",
    "from sklearn.metrics import r2_score\n",
    "import numpy as np\n",
    "from sklearn.model_selection import train_test_split\n",
    "from sklearn.linear_model import LinearRegression\n",
    "from sklearn import linear_model\n",
    "import statsmodels.api as sm\n",
    "from __future__ import print_function\n",
    "from ipywidgets import interact, interactive, fixed, interact_manual\n",
    "import ipywidgets as widgets\n",
    "from bokeh.plotting import figure, show  \n",
    "import pandas as pd"
   ]
  },
  {
   "cell_type": "markdown",
   "id": "32bda31b",
   "metadata": {},
   "source": [
    "# Data and Statistics\n",
    "\n",
    "<p><em>Below is a sample of the data we will be using for the report.<p>\n",
    "<p>We will also go ahead and set up the dataframe for use in the charts below.<p>"
   ]
  },
  {
   "cell_type": "code",
   "execution_count": 2,
   "id": "389bf696",
   "metadata": {
    "scrolled": true
   },
   "outputs": [
    {
     "data": {
      "text/html": [
       "<div>\n",
       "<style scoped>\n",
       "    .dataframe tbody tr th:only-of-type {\n",
       "        vertical-align: middle;\n",
       "    }\n",
       "\n",
       "    .dataframe tbody tr th {\n",
       "        vertical-align: top;\n",
       "    }\n",
       "\n",
       "    .dataframe thead th {\n",
       "        text-align: right;\n",
       "    }\n",
       "</style>\n",
       "<table border=\"1\" class=\"dataframe\">\n",
       "  <thead>\n",
       "    <tr style=\"text-align: right;\">\n",
       "      <th></th>\n",
       "      <th>Name</th>\n",
       "      <th>Platform</th>\n",
       "      <th>Year_of_Release</th>\n",
       "      <th>Genre</th>\n",
       "      <th>Publisher</th>\n",
       "      <th>NA_Sales</th>\n",
       "      <th>EU_Sales</th>\n",
       "      <th>JP_Sales</th>\n",
       "      <th>Other_Sales</th>\n",
       "      <th>Global_Sales</th>\n",
       "      <th>Critic_Score</th>\n",
       "      <th>Critic_Count</th>\n",
       "      <th>User_Score</th>\n",
       "      <th>User_Count</th>\n",
       "      <th>Developer</th>\n",
       "      <th>Rating</th>\n",
       "    </tr>\n",
       "  </thead>\n",
       "  <tbody>\n",
       "    <tr>\n",
       "      <th>0</th>\n",
       "      <td>Wii Sports</td>\n",
       "      <td>Wii</td>\n",
       "      <td>2006.0</td>\n",
       "      <td>Sports</td>\n",
       "      <td>Nintendo</td>\n",
       "      <td>41.36</td>\n",
       "      <td>28.96</td>\n",
       "      <td>3.77</td>\n",
       "      <td>8.45</td>\n",
       "      <td>82.53</td>\n",
       "      <td>76.0</td>\n",
       "      <td>51.0</td>\n",
       "      <td>8</td>\n",
       "      <td>322.0</td>\n",
       "      <td>Nintendo</td>\n",
       "      <td>E</td>\n",
       "    </tr>\n",
       "    <tr>\n",
       "      <th>1</th>\n",
       "      <td>Super Mario Bros.</td>\n",
       "      <td>NES</td>\n",
       "      <td>1985.0</td>\n",
       "      <td>Platform</td>\n",
       "      <td>Nintendo</td>\n",
       "      <td>29.08</td>\n",
       "      <td>3.58</td>\n",
       "      <td>6.81</td>\n",
       "      <td>0.77</td>\n",
       "      <td>40.24</td>\n",
       "      <td>NaN</td>\n",
       "      <td>NaN</td>\n",
       "      <td>NaN</td>\n",
       "      <td>NaN</td>\n",
       "      <td>NaN</td>\n",
       "      <td>NaN</td>\n",
       "    </tr>\n",
       "    <tr>\n",
       "      <th>2</th>\n",
       "      <td>Mario Kart Wii</td>\n",
       "      <td>Wii</td>\n",
       "      <td>2008.0</td>\n",
       "      <td>Racing</td>\n",
       "      <td>Nintendo</td>\n",
       "      <td>15.68</td>\n",
       "      <td>12.76</td>\n",
       "      <td>3.79</td>\n",
       "      <td>3.29</td>\n",
       "      <td>35.52</td>\n",
       "      <td>82.0</td>\n",
       "      <td>73.0</td>\n",
       "      <td>8.3</td>\n",
       "      <td>709.0</td>\n",
       "      <td>Nintendo</td>\n",
       "      <td>E</td>\n",
       "    </tr>\n",
       "    <tr>\n",
       "      <th>3</th>\n",
       "      <td>Wii Sports Resort</td>\n",
       "      <td>Wii</td>\n",
       "      <td>2009.0</td>\n",
       "      <td>Sports</td>\n",
       "      <td>Nintendo</td>\n",
       "      <td>15.61</td>\n",
       "      <td>10.93</td>\n",
       "      <td>3.28</td>\n",
       "      <td>2.95</td>\n",
       "      <td>32.77</td>\n",
       "      <td>80.0</td>\n",
       "      <td>73.0</td>\n",
       "      <td>8</td>\n",
       "      <td>192.0</td>\n",
       "      <td>Nintendo</td>\n",
       "      <td>E</td>\n",
       "    </tr>\n",
       "    <tr>\n",
       "      <th>4</th>\n",
       "      <td>Pokemon Red/Pokemon Blue</td>\n",
       "      <td>GB</td>\n",
       "      <td>1996.0</td>\n",
       "      <td>Role-Playing</td>\n",
       "      <td>Nintendo</td>\n",
       "      <td>11.27</td>\n",
       "      <td>8.89</td>\n",
       "      <td>10.22</td>\n",
       "      <td>1.00</td>\n",
       "      <td>31.37</td>\n",
       "      <td>NaN</td>\n",
       "      <td>NaN</td>\n",
       "      <td>NaN</td>\n",
       "      <td>NaN</td>\n",
       "      <td>NaN</td>\n",
       "      <td>NaN</td>\n",
       "    </tr>\n",
       "  </tbody>\n",
       "</table>\n",
       "</div>"
      ],
      "text/plain": [
       "                       Name Platform  Year_of_Release         Genre Publisher  \\\n",
       "0                Wii Sports      Wii           2006.0        Sports  Nintendo   \n",
       "1         Super Mario Bros.      NES           1985.0      Platform  Nintendo   \n",
       "2            Mario Kart Wii      Wii           2008.0        Racing  Nintendo   \n",
       "3         Wii Sports Resort      Wii           2009.0        Sports  Nintendo   \n",
       "4  Pokemon Red/Pokemon Blue       GB           1996.0  Role-Playing  Nintendo   \n",
       "\n",
       "   NA_Sales  EU_Sales  JP_Sales  Other_Sales  Global_Sales  Critic_Score  \\\n",
       "0     41.36     28.96      3.77         8.45         82.53          76.0   \n",
       "1     29.08      3.58      6.81         0.77         40.24           NaN   \n",
       "2     15.68     12.76      3.79         3.29         35.52          82.0   \n",
       "3     15.61     10.93      3.28         2.95         32.77          80.0   \n",
       "4     11.27      8.89     10.22         1.00         31.37           NaN   \n",
       "\n",
       "   Critic_Count User_Score  User_Count Developer Rating  \n",
       "0          51.0          8       322.0  Nintendo      E  \n",
       "1           NaN        NaN         NaN       NaN    NaN  \n",
       "2          73.0        8.3       709.0  Nintendo      E  \n",
       "3          73.0          8       192.0  Nintendo      E  \n",
       "4           NaN        NaN         NaN       NaN    NaN  "
      ]
     },
     "execution_count": 2,
     "metadata": {},
     "output_type": "execute_result"
    }
   ],
   "source": [
    "videogames = pd.read_csv('VideoGames.csv')\n",
    "df = pd.DataFrame(videogames)\n",
    "videogames.head()"
   ]
  },
  {
   "cell_type": "markdown",
   "id": "ef2224e6",
   "metadata": {},
   "source": [
    "# Best Selling Genre\n",
    "\n",
    "<p><em>First it is important to know which genres the gaming community enjoys playing the most.<p>\n",
    "<p>As we can see more intense genres like Action, Sports, and Shooters create the highest selling genres.<p>"
   ]
  },
  {
   "cell_type": "code",
   "execution_count": 3,
   "id": "943e7d62",
   "metadata": {
    "scrolled": false
   },
   "outputs": [
    {
     "data": {
      "text/plain": [
       "Text(0, 0.5, 'Total Sales $')"
      ]
     },
     "execution_count": 3,
     "metadata": {},
     "output_type": "execute_result"
    },
    {
     "data": {
      "image/png": "[encoded data removed]",
      "text/plain": [
       "<Figure size 576x432 with 1 Axes>"
      ]
     },
     "metadata": {
      "needs_background": "light"
     },
     "output_type": "display_data"
    }
   ],
   "source": [
    "genre_sales = df.groupby('Genre', sort=False)['Global_Sales'].sum().reset_index()\n",
    "bar_chart = genre_sales.plot.bar(x='Genre', title='Total Sales for Each Genre', figsize=(8,6))\n",
    "bar_chart.set_xlabel('Video Game Genre')\n",
    "bar_chart.set_ylabel('Total Sales $')"
   ]
  },
  {
   "cell_type": "markdown",
   "id": "1324e9dd",
   "metadata": {},
   "source": [
    "# Regional Sales\n",
    "\n",
    "<p><em>Now we move on to showing a comparison of the sales by region.<p>\n",
    "<p>The result shows that western countries make up a little over 75% of videogame sales.<p>"
   ]
  },
  {
   "cell_type": "code",
   "execution_count": 4,
   "id": "8de3db61",
   "metadata": {
    "scrolled": false
   },
   "outputs": [
    {
     "data": {
      "image/png": "[encoded data removed]",
      "text/plain": [
       "<Figure size 504x504 with 1 Axes>"
      ]
     },
     "metadata": {},
     "output_type": "display_data"
    }
   ],
   "source": [
    "na = pd.Series(df['NA_Sales']).sum()\n",
    "eu = pd.Series(df['EU_Sales']).sum()\n",
    "jp = pd.Series(df['JP_Sales']).sum()\n",
    "other = pd.Series(df['Other_Sales']).sum()\n",
    "pie_df = pd.DataFrame({'Sales': [na, eu, jp, other]}, index=['NA Sales', 'EU Sales', 'JP Sales', 'Other Sales'])\n",
    "pie_chart = pie_df.plot.pie(y='Sales', figsize=(7,7))"
   ]
  },
  {
   "cell_type": "markdown",
   "id": "af14e30e",
   "metadata": {},
   "source": [
    "# Comparing Reviews to Player Counts\n",
    "\n",
    "<p><em>Here we provide an analsysis to help understand the correlation between player counts and critic scores.<br>\n",
    "    Of course a higher review means more players, but how often is this the case?<br>\n",
    "    As show by the scatter plot, most games do not reach above a thousand players, regardless of reviews,<br>\n",
    "    but having a higher critic score does increase the chances.<br> \n",
    "    Reaching a player count above five thousand seems to only be capable from games that have at least a seventy rating or above.<p>"
   ]
  },
  {
   "cell_type": "code",
   "execution_count": 5,
   "id": "972dccf8",
   "metadata": {
    "scrolled": false
   },
   "outputs": [
    {
     "data": {
      "text/plain": [
       "<matplotlib.collections.PathCollection at 0x12087153e80>"
      ]
     },
     "execution_count": 5,
     "metadata": {},
     "output_type": "execute_result"
    },
    {
     "data": {
      "image/png": "[encoded data removed]",
      "text/plain": [
       "<Figure size 720x720 with 1 Axes>"
      ]
     },
     "metadata": {
      "needs_background": "light"
     },
     "output_type": "display_data"
    }
   ],
   "source": [
    "critic_score = df['Critic_Score']\n",
    "player_count= df['User_Count']\n",
    "x = critic_score\n",
    "y= player_count\n",
    "plt.figure(figsize=(10,10))\n",
    "plt.scatter(x, y, s = 10)"
   ]
  },
  {
   "cell_type": "markdown",
   "id": "f87fe416",
   "metadata": {},
   "source": [
    "# Running Algorithms\n",
    "\n",
    "<p><em>This is where we will use machine learning to find trends in the data.<br>\n",
    "    We are looking for correlations in what we believe would be the most influential factors such as<br>\n",
    "    critic scores, game genre, and game rating. We have also provided the option to select a heatmap to show correlation between the data.<br>\n",
    "    Each algorithm is provided below and the user can select between 2 multiple linear regression algorithms. One uses the critic score and genre, and the other uses the critic score and rating. It will show the linear comparison of having a higher critic score, and its correlation with the ratings/genres of a game.<p>"
   ]
  },
  {
   "cell_type": "code",
   "execution_count": 6,
   "id": "b069ecf3",
   "metadata": {
    "scrolled": false
   },
   "outputs": [
    {
     "data": {
      "application/vnd.jupyter.widget-view+json": {
       "model_id": "bc2040d8aa474e1ba98da7a4beef8304",
       "version_major": 2,
       "version_minor": 0
      },
      "text/plain": [
       "interactive(children=(Dropdown(description='Select', options=('Genre', 'Rating', 'Heatmap'), value='Genre'), B…"
      ]
     },
     "metadata": {},
     "output_type": "display_data"
    }
   ],
   "source": [
    "grab_data = df[['Rating', 'Critic_Score', 'Global_Sales']].dropna()\n",
    "y1 = grab_data.drop(['Rating', 'Critic_Score'], axis = 1)\n",
    "x1 = grab_data.drop('Global_Sales', axis=1)\n",
    "x1 = pd.get_dummies(data=x1, drop_first=True)\n",
    "x1_train, x1_test, y1_train, y1_test = train_test_split(x1, y1, test_size = 0.2, random_state = 42)\n",
    "rat_cri_regr = LinearRegression()\n",
    "rat_cri_regr.fit(x1_train,y1_train)\n",
    "pred1 = rat_cri_regr.predict(x1_test)\n",
    "\n",
    "\n",
    "grab_data2 = df[['Genre', 'Critic_Score','Global_Sales']].dropna()\n",
    "y2 = grab_data2.drop(['Genre', 'Critic_Score'], axis = 1)\n",
    "x2 = grab_data2.drop('Global_Sales', axis=1)\n",
    "x2 = pd.get_dummies(data=x2, drop_first=True)\n",
    "x2_train, x2_test, y2_train, y2_test = train_test_split(x2, y2, test_size = 0.1, random_state = 42)\n",
    "gen_cri_regr = LinearRegression()\n",
    "gen_cri_regr.fit(x2_train,y2_train)\n",
    "pred2 = gen_cri_regr.predict(x2_test)\n",
    "\n",
    "@interact_manual\n",
    "def interactive_scores(Select = ['Genre', 'Rating', 'Heatmap']):\n",
    "    if Select == 'Rating':\n",
    "        return sns.regplot(y1_test,pred1)\n",
    "    elif Select == 'Genre':\n",
    "        return sns.regplot(y2_test,pred2)\n",
    "    elif Select == 'Heatmap':\n",
    "        return sns.heatmap(df.corr(),annot=True,lw=1)\n",
    "        \n",
    "    return sns.regplot(y1_test,pred1)"
   ]
  },
  {
   "cell_type": "code",
   "execution_count": 7,
   "id": "25308368",
   "metadata": {},
   "outputs": [
    {
     "data": {
      "application/vnd.jupyter.widget-view+json": {
       "model_id": "aa33ce84b44147e48089b172b2682893",
       "version_major": 2,
       "version_minor": 0
      },
      "text/plain": [
       "Button(description='Genre', style=ButtonStyle())"
      ]
     },
     "metadata": {},
     "output_type": "display_data"
    }
   ],
   "source": [
    "grab_data = df[['Rating', 'Critic_Score', 'Global_Sales']].dropna()\n",
    "y1 = grab_data.drop(['Rating', 'Critic_Score'], axis = 1)\n",
    "x1 = grab_data.drop('Global_Sales', axis=1)\n",
    "x1 = pd.get_dummies(data=x1, drop_first=True)\n",
    "x1_train, x1_test, y1_train, y1_test = train_test_split(x1, y1, test_size = 0.2, random_state = 42)\n",
    "rat_cri_regr = LinearRegression()\n",
    "rat_cri_regr.fit(x1_train,y1_train)\n",
    "pred1 = rat_cri_regr.predict(x1_test)\n",
    "\n",
    "\n",
    "grab_data2 = df[['Genre', 'Critic_Score','Global_Sales']].dropna()\n",
    "y2 = grab_data2.drop(['Genre', 'Critic_Score'], axis = 1)\n",
    "x2 = grab_data2.drop('Global_Sales', axis=1)\n",
    "x2 = pd.get_dummies(data=x2, drop_first=True)\n",
    "x2_train, x2_test, y2_train, y2_test = train_test_split(x2, y2, test_size = 0.1, random_state = 42)\n",
    "gen_cri_regr = LinearRegression()\n",
    "gen_cri_regr.fit(x2_train,y2_train)\n",
    "pred2 = gen_cri_regr.predict(x2_test)\n",
    "\n",
    "button = widgets.Button(description = 'Genre',\n",
    "                       disabled = False)\n",
    "display(button)\n",
    "def on_button1_clicked(b):\n",
    "    show_chart = sns.regplot(y2_test,pred2)\n",
    "    return show_chart\n",
    "    \n",
    "button.on_click(on_button1_clicked)"
   ]
  },
  {
   "cell_type": "markdown",
   "id": "5de29dc0",
   "metadata": {},
   "source": [
    "# Final Graph\n",
    "\n",
    "<p><em>This is the last algorithm and visual provided.<br>\n",
    "    This graph shows the correlation between sales and critic score.<br>\n",
    "    Using a simple linear regression algorithm, we are show the results of having a higher critic score, and the potential for higher sales that holds.<p>"
   ]
  },
  {
   "cell_type": "code",
   "execution_count": 8,
   "id": "75eae9d8",
   "metadata": {},
   "outputs": [
    {
     "name": "stderr",
     "output_type": "stream",
     "text": [
      "C:\\Users\\Beyon\\anaconda3\\lib\\site-packages\\statsmodels\\tsa\\tsatools.py:142: FutureWarning: In a future version of pandas all arguments of concat except for the argument 'objs' will be keyword-only\n",
      "  x = pd.concat(x[::order], 1)\n"
     ]
    },
    {
     "data": {
      "image/png": "[encoded data removed]",
      "text/plain": [
       "<Figure size 432x288 with 1 Axes>"
      ]
     },
     "metadata": {
      "needs_background": "light"
     },
     "output_type": "display_data"
    }
   ],
   "source": [
    "grab_data3 = df[['Critic_Score', 'Global_Sales']].dropna()\n",
    "X = grab_data3.drop('Global_Sales', axis = 1)\n",
    "y = grab_data3.drop('Critic_Score', axis = 1)\n",
    "X_train, X_test, y_train, y_test = train_test_split(X, y, test_size = 0.23, random_state = 42)\n",
    "X_train_sm = sm.add_constant(X_train)\n",
    "lr = sm.OLS(y_train, X_train_sm).fit()\n",
    "plt.scatter(X_train, y_train)\n",
    "plt.plot(X_train, -1.4544 + 0.0309*X_train, 'r')\n",
    "plt.show()"
   ]
  },
  {
   "cell_type": "code",
   "execution_count": null,
   "id": "b6ee9b21",
   "metadata": {},
   "outputs": [],
   "source": []
  }
 ],
 "metadata": {
  "kernelspec": {
   "display_name": "Python 3 (ipykernel)",
   "language": "python",
   "name": "python3"
  },
  "language_info": {
   "codemirror_mode": {
    "name": "ipython",
    "version": 3
   },
   "file_extension": ".py",
   "mimetype": "text/x-python",
   "name": "python",
   "nbconvert_exporter": "python",
   "pygments_lexer": "ipython3",
   "version": "3.9.7"
  }
 },
 "nbformat": 4,
 "nbformat_minor": 5
}
