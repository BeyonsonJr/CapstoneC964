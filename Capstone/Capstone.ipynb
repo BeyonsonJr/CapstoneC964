{
 "cells": [
  {
   "cell_type": "markdown",
   "id": "98a5c295",
   "metadata": {},
   "source": [
    "# Videogame Sales and Reviews Report"
   ]
  },
  {
   "cell_type": "code",
   "execution_count": 1,
   "id": "c5475312",
   "metadata": {},
   "outputs": [],
   "source": [
    "import csv\n",
    "import math\n",
    "import matplotlib.pyplot as plt\n",
    "import seaborn as sns\n",
    "from sklearn.metrics import r2_score\n",
    "import numpy as np\n",
    "from sklearn.model_selection import train_test_split\n",
    "from sklearn.linear_model import LinearRegression\n",
    "from sklearn import linear_model\n",
    "import statsmodels.api as sm\n",
    "from ipywidgets import interact, interactive, fixed, interact_manual\n",
    "\n",
    "from bokeh.plotting import figure, show  \n",
    "import pandas as pd"
   ]
  },
  {
   "cell_type": "markdown",
   "id": "32bda31b",
   "metadata": {},
   "source": [
    "# Data and Statistics\n",
    "\n",
    "<p><em>Below is a sample of the data we will be using for the report.<p>\n",
    "<p>We will also go ahead and set up the dataframe for use in the charts below.<p>"
   ]
  },
  {
   "cell_type": "code",
   "execution_count": 2,
   "id": "389bf696",
   "metadata": {
    "scrolled": true
   },
   "outputs": [
    {
     "data": {
      "text/html": [
       "<div>\n",
       "<style scoped>\n",
       "    .dataframe tbody tr th:only-of-type {\n",
       "        vertical-align: middle;\n",
       "    }\n",
       "\n",
       "    .dataframe tbody tr th {\n",
       "        vertical-align: top;\n",
       "    }\n",
       "\n",
       "    .dataframe thead th {\n",
       "        text-align: right;\n",
       "    }\n",
       "</style>\n",
       "<table border=\"1\" class=\"dataframe\">\n",
       "  <thead>\n",
       "    <tr style=\"text-align: right;\">\n",
       "      <th></th>\n",
       "      <th>Name</th>\n",
       "      <th>Platform</th>\n",
       "      <th>Year_of_Release</th>\n",
       "      <th>Genre</th>\n",
       "      <th>Publisher</th>\n",
       "      <th>NA_Sales</th>\n",
       "      <th>EU_Sales</th>\n",
       "      <th>JP_Sales</th>\n",
       "      <th>Other_Sales</th>\n",
       "      <th>Global_Sales</th>\n",
       "      <th>Critic_Score</th>\n",
       "      <th>Critic_Count</th>\n",
       "      <th>User_Score</th>\n",
       "      <th>User_Count</th>\n",
       "      <th>Developer</th>\n",
       "      <th>Rating</th>\n",
       "    </tr>\n",
       "  </thead>\n",
       "  <tbody>\n",
       "    <tr>\n",
       "      <th>0</th>\n",
       "      <td>Wii Sports</td>\n",
       "      <td>Wii</td>\n",
       "      <td>2006.0</td>\n",
       "      <td>Sports</td>\n",
       "      <td>Nintendo</td>\n",
       "      <td>41.36</td>\n",
       "      <td>28.96</td>\n",
       "      <td>3.77</td>\n",
       "      <td>8.45</td>\n",
       "      <td>82.53</td>\n",
       "      <td>76.0</td>\n",
       "      <td>51.0</td>\n",
       "      <td>8</td>\n",
       "      <td>322.0</td>\n",
       "      <td>Nintendo</td>\n",
       "      <td>E</td>\n",
       "    </tr>\n",
       "    <tr>\n",
       "      <th>1</th>\n",
       "      <td>Super Mario Bros.</td>\n",
       "      <td>NES</td>\n",
       "      <td>1985.0</td>\n",
       "      <td>Platform</td>\n",
       "      <td>Nintendo</td>\n",
       "      <td>29.08</td>\n",
       "      <td>3.58</td>\n",
       "      <td>6.81</td>\n",
       "      <td>0.77</td>\n",
       "      <td>40.24</td>\n",
       "      <td>NaN</td>\n",
       "      <td>NaN</td>\n",
       "      <td>NaN</td>\n",
       "      <td>NaN</td>\n",
       "      <td>NaN</td>\n",
       "      <td>NaN</td>\n",
       "    </tr>\n",
       "    <tr>\n",
       "      <th>2</th>\n",
       "      <td>Mario Kart Wii</td>\n",
       "      <td>Wii</td>\n",
       "      <td>2008.0</td>\n",
       "      <td>Racing</td>\n",
       "      <td>Nintendo</td>\n",
       "      <td>15.68</td>\n",
       "      <td>12.76</td>\n",
       "      <td>3.79</td>\n",
       "      <td>3.29</td>\n",
       "      <td>35.52</td>\n",
       "      <td>82.0</td>\n",
       "      <td>73.0</td>\n",
       "      <td>8.3</td>\n",
       "      <td>709.0</td>\n",
       "      <td>Nintendo</td>\n",
       "      <td>E</td>\n",
       "    </tr>\n",
       "    <tr>\n",
       "      <th>3</th>\n",
       "      <td>Wii Sports Resort</td>\n",
       "      <td>Wii</td>\n",
       "      <td>2009.0</td>\n",
       "      <td>Sports</td>\n",
       "      <td>Nintendo</td>\n",
       "      <td>15.61</td>\n",
       "      <td>10.93</td>\n",
       "      <td>3.28</td>\n",
       "      <td>2.95</td>\n",
       "      <td>32.77</td>\n",
       "      <td>80.0</td>\n",
       "      <td>73.0</td>\n",
       "      <td>8</td>\n",
       "      <td>192.0</td>\n",
       "      <td>Nintendo</td>\n",
       "      <td>E</td>\n",
       "    </tr>\n",
       "    <tr>\n",
       "      <th>4</th>\n",
       "      <td>Pokemon Red/Pokemon Blue</td>\n",
       "      <td>GB</td>\n",
       "      <td>1996.0</td>\n",
       "      <td>Role-Playing</td>\n",
       "      <td>Nintendo</td>\n",
       "      <td>11.27</td>\n",
       "      <td>8.89</td>\n",
       "      <td>10.22</td>\n",
       "      <td>1.00</td>\n",
       "      <td>31.37</td>\n",
       "      <td>NaN</td>\n",
       "      <td>NaN</td>\n",
       "      <td>NaN</td>\n",
       "      <td>NaN</td>\n",
       "      <td>NaN</td>\n",
       "      <td>NaN</td>\n",
       "    </tr>\n",
       "  </tbody>\n",
       "</table>\n",
       "</div>"
      ],
      "text/plain": [
       "                       Name Platform  Year_of_Release         Genre Publisher  \\\n",
       "0                Wii Sports      Wii           2006.0        Sports  Nintendo   \n",
       "1         Super Mario Bros.      NES           1985.0      Platform  Nintendo   \n",
       "2            Mario Kart Wii      Wii           2008.0        Racing  Nintendo   \n",
       "3         Wii Sports Resort      Wii           2009.0        Sports  Nintendo   \n",
       "4  Pokemon Red/Pokemon Blue       GB           1996.0  Role-Playing  Nintendo   \n",
       "\n",
       "   NA_Sales  EU_Sales  JP_Sales  Other_Sales  Global_Sales  Critic_Score  \\\n",
       "0     41.36     28.96      3.77         8.45         82.53          76.0   \n",
       "1     29.08      3.58      6.81         0.77         40.24           NaN   \n",
       "2     15.68     12.76      3.79         3.29         35.52          82.0   \n",
       "3     15.61     10.93      3.28         2.95         32.77          80.0   \n",
       "4     11.27      8.89     10.22         1.00         31.37           NaN   \n",
       "\n",
       "   Critic_Count User_Score  User_Count Developer Rating  \n",
       "0          51.0          8       322.0  Nintendo      E  \n",
       "1           NaN        NaN         NaN       NaN    NaN  \n",
       "2          73.0        8.3       709.0  Nintendo      E  \n",
       "3          73.0          8       192.0  Nintendo      E  \n",
       "4           NaN        NaN         NaN       NaN    NaN  "
      ]
     },
     "execution_count": 2,
     "metadata": {},
     "output_type": "execute_result"
    }
   ],
   "source": [
    "videogames = pd.read_csv('VideoGames.csv')\n",
    "df = pd.DataFrame(videogames)\n",
    "videogames.head()"
   ]
  },
  {
   "cell_type": "markdown",
   "id": "ef2224e6",
   "metadata": {},
   "source": [
    "# Best Selling Genre\n",
    "\n",
    "<p><em>First it is important to know which genres the gaming community enjoys playing the most.<p>\n",
    "<p>As we can see more intense genres like Action, Sports, and Shooters create the highest selling genres.<p>"
   ]
  },
  {
   "cell_type": "code",
   "execution_count": 3,
   "id": "943e7d62",
   "metadata": {},
   "outputs": [
    {
     "data": {
      "text/plain": [
       "Text(0, 0.5, 'Total Sales $')"
      ]
     },
     "execution_count": 3,
     "metadata": {},
     "output_type": "execute_result"
    },
    {
     "data": {
      "image/png": "[encoded data removed]",
      "text/plain": [
       "<Figure size 576x432 with 1 Axes>"
      ]
     },
     "metadata": {
      "needs_background": "light"
     },
     "output_type": "display_data"
    }
   ],
   "source": [
    "genre_sales = df.groupby('Genre', sort=False)['Global_Sales'].sum().reset_index()\n",
    "bar_chart = genre_sales.plot.bar(x='Genre', title='Total Sales for Each Genre', figsize=(8,6))\n",
    "bar_chart.set_xlabel('Video Game Genre')\n",
    "bar_chart.set_ylabel('Total Sales $')"
   ]
  },
  {
   "cell_type": "markdown",
   "id": "1324e9dd",
   "metadata": {},
   "source": [
    "# Regional Sales\n",
    "\n",
    "<p><em>Now we move on to showing a comparison of the sales by region.<p>\n",
    "<p>The result shows that western countries make up a little over 75% of videogame sales.<p>"
   ]
  },
  {
   "cell_type": "code",
   "execution_count": 4,
   "id": "8de3db61",
   "metadata": {},
   "outputs": [
    {
     "data": {
      "image/png": "[encoded data removed]",
      "text/plain": [
       "<Figure size 504x504 with 1 Axes>"
      ]
     },
     "metadata": {},
     "output_type": "display_data"
    }
   ],
   "source": [
    "na = pd.Series(df['NA_Sales']).sum()\n",
    "eu = pd.Series(df['EU_Sales']).sum()\n",
    "jp = pd.Series(df['JP_Sales']).sum()\n",
    "other = pd.Series(df['Other_Sales']).sum()\n",
    "pie_df = pd.DataFrame({'Sales': [na, eu, jp, other]}, index=['NA Sales', 'EU Sales', 'JP Sales', 'Other Sales'])\n",
    "pie_chart = pie_df.plot.pie(y='Sales', figsize=(7,7))"
   ]
  },
  {
   "cell_type": "markdown",
   "id": "af14e30e",
   "metadata": {},
   "source": [
    "# Comparing Reviews to Player Counts\n",
    "\n",
    "<p><em>Here we provide an analsysis to help understand the correlation between player counts and critic scores.<br>\n",
    "    Of course a higher review means more players, but how often is this the case?<br>\n",
    "    As show by the scatter plot, most games do not reach above a thousand players, regardless of reviews,<br>\n",
    "    but having a higher critic score does increase the chances.<br> \n",
    "    Reaching a player count above five thousand seems to only be capable from games that have at least a seventy rating or above.<br>\n",
    "    The user can also select to see the charts by global sales, vs play scores. To see how high the sales are for some of the most played games, and infer a correlation between the two.<p>"
   ]
  },
  {
   "cell_type": "code",
   "execution_count": 43,
   "id": "2a3debd8-726b-4b72-b818-5a3a9796ac4b",
   "metadata": {},
   "outputs": [
    {
     "data": {
      "application/vnd.jupyter.widget-view+json": {
       "model_id": "8ab2b89ce47a49228825af1f77628f9a",
       "version_major": 2,
       "version_minor": 0
      },
      "text/plain": [
       "interactive(children=(Dropdown(description='Select', options=('Critic Score', 'User Score'), value='Critic Sco…"
      ]
     },
     "metadata": {},
     "output_type": "display_data"
    }
   ],
   "source": [
    "score = df['Critic_Score']\n",
    "score2 = df['Global_Sales']\n",
    "player_count= df['User_Count']\n",
    "x = score\n",
    "y= player_count\n",
    "\n",
    "@interact_manual\n",
    "def interactive_scores(Select = ['Critic Score', 'User Score']):\n",
    "    if Select == 'Critic Score':\n",
    "        x = score\n",
    "        plt.figure(figsize=(10,10))\n",
    "        plt.xlabel('Critic Score')\n",
    "        plt.ylabel('User Count')\n",
    "        return plt.scatter(x, y, s = 10)\n",
    "    elif Select == 'User Score':\n",
    "        x = score2\n",
    "        plt.figure(figsize=(10,10))\n",
    "        plt.xlabel('Global Sales')\n",
    "        plt.ylabel('User Count')\n",
    "        return plt.scatter(x, y, s = 10)\n",
    "    return"
   ]
  },
  {
   "cell_type": "markdown",
   "id": "f87fe416",
   "metadata": {
    "tags": []
   },
   "source": [
    "# Running Algorithms\n",
    "\n",
    "<p><em>This is where we will use machine learning to find trends in the data.<br>\n",
    "    We are looking for correlations in what we believe would be the most influential factors such as<br>\n",
    "    critic scores, game genre, and game rating. We have also provided a heatmap to show correlation between the data.<br>\n",
    "    The algorithms are provided below and they are overlapped to show the close correlation of the two.<br>\n",
    "    One uses the critic score and genre, and the other uses the critic score and rating. It will show the linear comparison of having a higher critic score, and its correlation with the ratings/genres of a game.<p>"
   ]
  },
  {
   "cell_type": "code",
   "execution_count": 40,
   "id": "f1e6a124-b91d-434d-a489-5a37632cdaf6",
   "metadata": {},
   "outputs": [
    {
     "data": {
      "text/plain": [
       "<AxesSubplot:>"
      ]
     },
     "execution_count": 40,
     "metadata": {},
     "output_type": "execute_result"
    },
    {
     "data": {
      "image/png": "[encoded data removed]",
      "text/plain": [
       "<Figure size 432x288 with 2 Axes>"
      ]
     },
     "metadata": {
      "needs_background": "light"
     },
     "output_type": "display_data"
    }
   ],
   "source": [
    "sns.heatmap(df.corr(),annot=True,lw=1)"
   ]
  },
  {
   "cell_type": "code",
   "execution_count": 37,
   "id": "b069ecf3",
   "metadata": {},
   "outputs": [
    {
     "data": {
      "text/plain": [
       "<AxesSubplot:xlabel='Global_Sales'>"
      ]
     },
     "execution_count": 37,
     "metadata": {},
     "output_type": "execute_result"
    },
    {
     "data": {
      "image/png": "[encoded data removed]",
      "text/plain": [
       "<Figure size 432x288 with 1 Axes>"
      ]
     },
     "metadata": {
      "needs_background": "light"
     },
     "output_type": "display_data"
    }
   ],
   "source": [
    "grab_data = df[['Rating', 'Critic_Score', 'Global_Sales']].dropna()\n",
    "y1 = grab_data.drop(['Rating', 'Critic_Score'], axis = 1)\n",
    "x1 = grab_data.drop('Global_Sales', axis=1)\n",
    "x1 = pd.get_dummies(data=x1, drop_first=True)\n",
    "x1_train, x1_test, y1_train, y1_test = train_test_split(x1, y1, test_size = 0.2, random_state = 42)\n",
    "rat_cri_regr = LinearRegression()\n",
    "rat_cri_regr.fit(x1_train,y1_train)\n",
    "pred1 = rat_cri_regr.predict(x1_test)\n",
    "\n",
    "\n",
    "grab_data2 = df[['Genre', 'Critic_Score','Global_Sales']].dropna()\n",
    "y2 = grab_data2.drop(['Genre', 'Critic_Score'], axis = 1)\n",
    "x2 = grab_data2.drop('Global_Sales', axis=1)\n",
    "x2 = pd.get_dummies(data=x2, drop_first=True)\n",
    "x2_train, x2_test, y2_train, y2_test = train_test_split(x2, y2, test_size = 0.1, random_state = 42)\n",
    "gen_cri_regr = LinearRegression()\n",
    "gen_cri_regr.fit(x2_train,y2_train)\n",
    "pred2 = gen_cri_regr.predict(x2_test)\n",
    "\n",
    "sns.regplot(x = y1_test,y = pred1)\n",
    "sns.regplot(x = y2_test,y = pred2)\n"
   ]
  }
 ],
 "metadata": {
  "kernelspec": {
   "display_name": "Python 3 (ipykernel)",
   "language": "python",
   "name": "python3"
  },
  "language_info": {
   "codemirror_mode": {
    "name": "ipython",
    "version": 3
   },
   "file_extension": ".py",
   "mimetype": "text/x-python",
   "name": "python",
   "nbconvert_exporter": "python",
   "pygments_lexer": "ipython3",
   "version": "3.9.7"
  },
  "widgets": {
   "application/vnd.jupyter.widget-state+json": {
    "state": {
     "03bfbd65b94b404c8ff76ed86c8c65f2": {
      "model_module": "@jupyter-widgets/base",
      "model_module_version": "1.2.0",
      "model_name": "LayoutModel",
      "state": {}
     },
     "05156dfa8be54927978ccd34408e4bf5": {
      "model_module": "@jupyter-widgets/base",
      "model_module_version": "1.2.0",
      "model_name": "LayoutModel",
      "state": {}
     },
     "063358556c754c81b7efc63e3eb103b7": {
      "model_module": "@jupyter-widgets/base",
      "model_module_version": "1.2.0",
      "model_name": "LayoutModel",
      "state": {}
     },
     "0b5c070dc5e14e8f9227d15961bd54ed": {
      "model_module": "@jupyter-widgets/base",
      "model_module_version": "1.2.0",
      "model_name": "LayoutModel",
      "state": {}
     },
     "0ce6f83a8479468f8a2b4bacd05ea7d8": {
      "model_module": "@jupyter-widgets/base",
      "model_module_version": "1.2.0",
      "model_name": "LayoutModel",
      "state": {}
     },
     "0de04306ad2843e8901d8eb6ee1c4cb7": {
      "model_module": "@jupyter-widgets/controls",
      "model_module_version": "1.5.0",
      "model_name": "ButtonModel",
      "state": {
       "description": "Genre",
       "layout": "IPY_MODEL_c1e7bd933be54bbba1477584aad3663d",
       "style": "IPY_MODEL_75b1015557a9418981bb63556655bc38"
      }
     },
     "116783b553eb4edf86d198d5203ed803": {
      "model_module": "@jupyter-widgets/controls",
      "model_module_version": "1.5.0",
      "model_name": "ButtonModel",
      "state": {
       "description": "Run Interact",
       "layout": "IPY_MODEL_ab7f8b59a47441c79e06204af3639937",
       "style": "IPY_MODEL_dcfb07d7c5164943b409f37d8ea45681"
      }
     },
     "1214467a14184d278f6fb0f59ff32d15": {
      "model_module": "@jupyter-widgets/controls",
      "model_module_version": "1.5.0",
      "model_name": "VBoxModel",
      "state": {
       "_dom_classes": [
        "widget-interact"
       ],
       "children": [
        "IPY_MODEL_1ac1decb420a44b8bc4eef008142f01c",
        "IPY_MODEL_e1070251d9714c8b93445347b5c62fc5",
        "IPY_MODEL_12fe92eefb394d4c89d4a66bb1b17d70"
       ],
       "layout": "IPY_MODEL_b654221109694db5af7de8bd6387b4fb"
      }
     },
     "12fe92eefb394d4c89d4a66bb1b17d70": {
      "model_module": "@jupyter-widgets/output",
      "model_module_version": "1.0.0",
      "model_name": "OutputModel",
      "state": {
       "layout": "IPY_MODEL_03bfbd65b94b404c8ff76ed86c8c65f2"
      }
     },
     "13b06a51b82549649844eb14fc8eabc8": {
      "model_module": "@jupyter-widgets/base",
      "model_module_version": "1.2.0",
      "model_name": "LayoutModel",
      "state": {}
     },
     "141bc2f8eb5545a59c41ffa640247609": {
      "model_module": "@jupyter-widgets/base",
      "model_module_version": "1.2.0",
      "model_name": "LayoutModel",
      "state": {}
     },
     "1a8bdcba49b2454eb2fd4b3882b148ef": {
      "model_module": "@jupyter-widgets/base",
      "model_module_version": "1.2.0",
      "model_name": "LayoutModel",
      "state": {}
     },
     "1ac1decb420a44b8bc4eef008142f01c": {
      "model_module": "@jupyter-widgets/controls",
      "model_module_version": "1.5.0",
      "model_name": "DropdownModel",
      "state": {
       "_options_labels": [
        "Genre",
        "Rating",
        "Heatmap"
       ],
       "description": "Select",
       "index": 0,
       "layout": "IPY_MODEL_141bc2f8eb5545a59c41ffa640247609",
       "style": "IPY_MODEL_c73069662413457991d1079a6216e5ed"
      }
     },
     "1c57e87f4c3a420cbd21548e308ea479": {
      "model_module": "@jupyter-widgets/output",
      "model_module_version": "1.0.0",
      "model_name": "OutputModel",
      "state": {
       "layout": "IPY_MODEL_4e158b93b4854f90b4eb54e947268863"
      }
     },
     "25a50f38aea341678af8eba8c33de4d7": {
      "model_module": "@jupyter-widgets/base",
      "model_module_version": "1.2.0",
      "model_name": "LayoutModel",
      "state": {}
     },
     "29f9cc2b8fd84469bc0595a90588eff6": {
      "model_module": "@jupyter-widgets/output",
      "model_module_version": "1.0.0",
      "model_name": "OutputModel",
      "state": {
       "layout": "IPY_MODEL_6fc5ff26d0ea4b41b4bba6f30420b8b9"
      }
     },
     "2e4e028ddf604e88927df977b1b8d73f": {
      "model_module": "@jupyter-widgets/controls",
      "model_module_version": "1.5.0",
      "model_name": "VBoxModel",
      "state": {
       "_dom_classes": [
        "widget-interact"
       ],
       "children": [
        "IPY_MODEL_f032cf7cedcf4b8fbb516dafc898b7c0",
        "IPY_MODEL_2f14a03102844ebbb42363497232933a",
        "IPY_MODEL_72bfb9c07e554511a7791d3f3e2f32bf"
       ],
       "layout": "IPY_MODEL_9ed78ee1ebdb4490ae527fb0c17b0b97"
      }
     },
     "2f14a03102844ebbb42363497232933a": {
      "model_module": "@jupyter-widgets/controls",
      "model_module_version": "1.5.0",
      "model_name": "ButtonModel",
      "state": {
       "description": "Run Interact",
       "layout": "IPY_MODEL_25a50f38aea341678af8eba8c33de4d7",
       "style": "IPY_MODEL_839f7ffab5414ca7a748a2ba32030221"
      }
     },
     "33ca6794b7d74580add029e01519a710": {
      "model_module": "@jupyter-widgets/controls",
      "model_module_version": "1.5.0",
      "model_name": "ButtonModel",
      "state": {
       "description": "Genre",
       "layout": "IPY_MODEL_fbf54b0f70794c878694cf03659221da",
       "style": "IPY_MODEL_81b9537e6add4ecfa93e2dd1f83ef88f"
      }
     },
     "34080e8556904c9aa25ce8210b3285c0": {
      "model_module": "@jupyter-widgets/base",
      "model_module_version": "1.2.0",
      "model_name": "LayoutModel",
      "state": {}
     },
     "3978c9e631c44db0a2157b8ffb448b75": {
      "model_module": "@jupyter-widgets/controls",
      "model_module_version": "1.5.0",
      "model_name": "ButtonStyleModel",
      "state": {}
     },
     "4e158b93b4854f90b4eb54e947268863": {
      "model_module": "@jupyter-widgets/base",
      "model_module_version": "1.2.0",
      "model_name": "LayoutModel",
      "state": {}
     },
     "4faa5253cecc4c56b30bcec84fba6b9b": {
      "model_module": "@jupyter-widgets/controls",
      "model_module_version": "1.5.0",
      "model_name": "ButtonStyleModel",
      "state": {}
     },
     "503f12f5abef4ce8901ce3fbda8c29cc": {
      "model_module": "@jupyter-widgets/controls",
      "model_module_version": "1.5.0",
      "model_name": "ButtonStyleModel",
      "state": {}
     },
     "52ebbabc8d6c4adfb9c9e64a124a51ad": {
      "model_module": "@jupyter-widgets/base",
      "model_module_version": "1.2.0",
      "model_name": "LayoutModel",
      "state": {}
     },
     "579426739dc44b1ebab7902fca46f01f": {
      "model_module": "@jupyter-widgets/controls",
      "model_module_version": "1.5.0",
      "model_name": "VBoxModel",
      "state": {
       "_dom_classes": [
        "widget-interact"
       ],
       "children": [
        "IPY_MODEL_f5fcb711697a44019c1663ba937ae4ea",
        "IPY_MODEL_6e6d5f59c20e4e169fd4aa630d0274b8",
        "IPY_MODEL_c6f86346dcd54ba188e4c6fa5a4f0af7"
       ],
       "layout": "IPY_MODEL_f9d218f477564144879a9f3b24d66c6f"
      }
     },
     "5af3c036ad6a4f0598212c99f61fb3d4": {
      "model_module": "@jupyter-widgets/controls",
      "model_module_version": "1.5.0",
      "model_name": "ButtonModel",
      "state": {
       "description": "Run Interact",
       "layout": "IPY_MODEL_8c4c1f105ddc4666b4c3f4f3f2662619",
       "style": "IPY_MODEL_baa918e23bc242a2a7387f05485e9e4f"
      }
     },
     "67772d12d53f49df9406fc260268cf7a": {
      "model_module": "@jupyter-widgets/controls",
      "model_module_version": "1.5.0",
      "model_name": "DropdownModel",
      "state": {
       "_options_labels": [
        "Genre",
        "Rating",
        "Heatmap"
       ],
       "description": "Select",
       "index": 0,
       "layout": "IPY_MODEL_0ce6f83a8479468f8a2b4bacd05ea7d8",
       "style": "IPY_MODEL_e1ea35349e0a417b983c87b635c7a061"
      }
     },
     "69080f3878874e4b98b78beb8bc057d9": {
      "model_module": "@jupyter-widgets/controls",
      "model_module_version": "1.5.0",
      "model_name": "DropdownModel",
      "state": {
       "_options_labels": [
        "Genre",
        "Rating",
        "Heatmap"
       ],
       "description": "Select",
       "index": 2,
       "layout": "IPY_MODEL_b25400bcb48145ef930af2eade96b59d",
       "style": "IPY_MODEL_7970727670e44fd887726bd876990b78"
      }
     },
     "6b5d76d3bcb24d8fbf29dd89a009523f": {
      "model_module": "@jupyter-widgets/base",
      "model_module_version": "1.2.0",
      "model_name": "LayoutModel",
      "state": {}
     },
     "6cfae15de19a4dde8c19884227a73c32": {
      "model_module": "@jupyter-widgets/controls",
      "model_module_version": "1.5.0",
      "model_name": "ButtonStyleModel",
      "state": {}
     },
     "6e6d5f59c20e4e169fd4aa630d0274b8": {
      "model_module": "@jupyter-widgets/controls",
      "model_module_version": "1.5.0",
      "model_name": "ButtonModel",
      "state": {
       "description": "Run Interact",
       "layout": "IPY_MODEL_cef06bd74ad24c4887466ff40bc012cd",
       "style": "IPY_MODEL_3978c9e631c44db0a2157b8ffb448b75"
      }
     },
     "6fc5ff26d0ea4b41b4bba6f30420b8b9": {
      "model_module": "@jupyter-widgets/base",
      "model_module_version": "1.2.0",
      "model_name": "LayoutModel",
      "state": {}
     },
     "7282a14d0373476889cfe2dac2e98fe9": {
      "model_module": "@jupyter-widgets/controls",
      "model_module_version": "1.5.0",
      "model_name": "ButtonModel",
      "state": {
       "description": "Run Interact",
       "layout": "IPY_MODEL_1a8bdcba49b2454eb2fd4b3882b148ef",
       "style": "IPY_MODEL_503f12f5abef4ce8901ce3fbda8c29cc"
      }
     },
     "72bfb9c07e554511a7791d3f3e2f32bf": {
      "model_module": "@jupyter-widgets/output",
      "model_module_version": "1.0.0",
      "model_name": "OutputModel",
      "state": {
       "layout": "IPY_MODEL_0b5c070dc5e14e8f9227d15961bd54ed"
      }
     },
     "738e4508676846b08a898489e3b3a272": {
      "model_module": "@jupyter-widgets/controls",
      "model_module_version": "1.5.0",
      "model_name": "ButtonModel",
      "state": {
       "description": "Genre",
       "layout": "IPY_MODEL_b0028055c9d841b2a94ff74e0d22f000",
       "style": "IPY_MODEL_4faa5253cecc4c56b30bcec84fba6b9b"
      }
     },
     "758bb7bf02c54edc8052d72ad1b3df03": {
      "model_module": "@jupyter-widgets/controls",
      "model_module_version": "1.5.0",
      "model_name": "ButtonStyleModel",
      "state": {}
     },
     "75b1015557a9418981bb63556655bc38": {
      "model_module": "@jupyter-widgets/controls",
      "model_module_version": "1.5.0",
      "model_name": "ButtonStyleModel",
      "state": {}
     },
     "7970727670e44fd887726bd876990b78": {
      "model_module": "@jupyter-widgets/controls",
      "model_module_version": "1.5.0",
      "model_name": "DescriptionStyleModel",
      "state": {
       "description_width": ""
      }
     },
     "81b9537e6add4ecfa93e2dd1f83ef88f": {
      "model_module": "@jupyter-widgets/controls",
      "model_module_version": "1.5.0",
      "model_name": "ButtonStyleModel",
      "state": {}
     },
     "81fda8eb1a524d50b7e5b4c1c448ed24": {
      "model_module": "@jupyter-widgets/base",
      "model_module_version": "1.2.0",
      "model_name": "LayoutModel",
      "state": {}
     },
     "839f7ffab5414ca7a748a2ba32030221": {
      "model_module": "@jupyter-widgets/controls",
      "model_module_version": "1.5.0",
      "model_name": "ButtonStyleModel",
      "state": {}
     },
     "8b5e1542af1d4771819252cf8d3fc410": {
      "model_module": "@jupyter-widgets/base",
      "model_module_version": "1.2.0",
      "model_name": "LayoutModel",
      "state": {}
     },
     "8c4c1f105ddc4666b4c3f4f3f2662619": {
      "model_module": "@jupyter-widgets/base",
      "model_module_version": "1.2.0",
      "model_name": "LayoutModel",
      "state": {}
     },
     "8eeee91b66104384ba83c19c6bb5ad17": {
      "model_module": "@jupyter-widgets/base",
      "model_module_version": "1.2.0",
      "model_name": "LayoutModel",
      "state": {}
     },
     "9c8e4cbd8cf7440d8ae4f55169b1c49e": {
      "model_module": "@jupyter-widgets/controls",
      "model_module_version": "1.5.0",
      "model_name": "DescriptionStyleModel",
      "state": {
       "description_width": ""
      }
     },
     "9cbe3046b3874a97816fb78f73c301f4": {
      "model_module": "@jupyter-widgets/controls",
      "model_module_version": "1.5.0",
      "model_name": "DropdownModel",
      "state": {
       "_options_labels": [
        "Genre",
        "Rating",
        "Heatmap"
       ],
       "description": "Select",
       "index": 0,
       "layout": "IPY_MODEL_52ebbabc8d6c4adfb9c9e64a124a51ad",
       "style": "IPY_MODEL_a5be328b065f4393bd1886cee5366b57"
      }
     },
     "9ed78ee1ebdb4490ae527fb0c17b0b97": {
      "model_module": "@jupyter-widgets/base",
      "model_module_version": "1.2.0",
      "model_name": "LayoutModel",
      "state": {}
     },
     "a43fd0e3262c483c8a7ffea10b289db0": {
      "model_module": "@jupyter-widgets/base",
      "model_module_version": "1.2.0",
      "model_name": "LayoutModel",
      "state": {}
     },
     "a5be328b065f4393bd1886cee5366b57": {
      "model_module": "@jupyter-widgets/controls",
      "model_module_version": "1.5.0",
      "model_name": "DescriptionStyleModel",
      "state": {
       "description_width": ""
      }
     },
     "ab7f8b59a47441c79e06204af3639937": {
      "model_module": "@jupyter-widgets/base",
      "model_module_version": "1.2.0",
      "model_name": "LayoutModel",
      "state": {}
     },
     "b0028055c9d841b2a94ff74e0d22f000": {
      "model_module": "@jupyter-widgets/base",
      "model_module_version": "1.2.0",
      "model_name": "LayoutModel",
      "state": {}
     },
     "b25400bcb48145ef930af2eade96b59d": {
      "model_module": "@jupyter-widgets/base",
      "model_module_version": "1.2.0",
      "model_name": "LayoutModel",
      "state": {}
     },
     "b5a549d1951e468e8779215f4a94492b": {
      "model_module": "@jupyter-widgets/controls",
      "model_module_version": "1.5.0",
      "model_name": "DropdownModel",
      "state": {
       "_options_labels": [
        "Genre",
        "Rating",
        "Heatmap"
       ],
       "description": "Select",
       "index": 0,
       "layout": "IPY_MODEL_6b5d76d3bcb24d8fbf29dd89a009523f",
       "style": "IPY_MODEL_9c8e4cbd8cf7440d8ae4f55169b1c49e"
      }
     },
     "b654221109694db5af7de8bd6387b4fb": {
      "model_module": "@jupyter-widgets/base",
      "model_module_version": "1.2.0",
      "model_name": "LayoutModel",
      "state": {}
     },
     "b8ae90ac744c4563aa3d15043e1d3f33": {
      "model_module": "@jupyter-widgets/controls",
      "model_module_version": "1.5.0",
      "model_name": "VBoxModel",
      "state": {
       "_dom_classes": [
        "widget-interact"
       ],
       "children": [
        "IPY_MODEL_9cbe3046b3874a97816fb78f73c301f4",
        "IPY_MODEL_dda1629b94f74cdf92e6bc75fbb37a1d",
        "IPY_MODEL_29f9cc2b8fd84469bc0595a90588eff6"
       ],
       "layout": "IPY_MODEL_05156dfa8be54927978ccd34408e4bf5"
      }
     },
     "ba8496297f9c407e98a8b8e238727ffd": {
      "model_module": "@jupyter-widgets/base",
      "model_module_version": "1.2.0",
      "model_name": "LayoutModel",
      "state": {}
     },
     "baa918e23bc242a2a7387f05485e9e4f": {
      "model_module": "@jupyter-widgets/controls",
      "model_module_version": "1.5.0",
      "model_name": "ButtonStyleModel",
      "state": {}
     },
     "bfad2eac49234b2dacf4be16c78135af": {
      "model_module": "@jupyter-widgets/controls",
      "model_module_version": "1.5.0",
      "model_name": "VBoxModel",
      "state": {
       "_dom_classes": [
        "widget-interact"
       ],
       "children": [
        "IPY_MODEL_b5a549d1951e468e8779215f4a94492b",
        "IPY_MODEL_7282a14d0373476889cfe2dac2e98fe9",
        "IPY_MODEL_efe7d86b80e542d09020418d0eb9de46"
       ],
       "layout": "IPY_MODEL_81fda8eb1a524d50b7e5b4c1c448ed24"
      }
     },
     "c1e7bd933be54bbba1477584aad3663d": {
      "model_module": "@jupyter-widgets/base",
      "model_module_version": "1.2.0",
      "model_name": "LayoutModel",
      "state": {}
     },
     "c6f86346dcd54ba188e4c6fa5a4f0af7": {
      "model_module": "@jupyter-widgets/output",
      "model_module_version": "1.0.0",
      "model_name": "OutputModel",
      "state": {
       "layout": "IPY_MODEL_ce40617030fa4688aee8a77f8a4a6547"
      }
     },
     "c73069662413457991d1079a6216e5ed": {
      "model_module": "@jupyter-widgets/controls",
      "model_module_version": "1.5.0",
      "model_name": "DescriptionStyleModel",
      "state": {
       "description_width": ""
      }
     },
     "caf467d45c8a4ec9bc946a93e9f7de9a": {
      "model_module": "@jupyter-widgets/controls",
      "model_module_version": "1.5.0",
      "model_name": "DescriptionStyleModel",
      "state": {
       "description_width": ""
      }
     },
     "ce40617030fa4688aee8a77f8a4a6547": {
      "model_module": "@jupyter-widgets/base",
      "model_module_version": "1.2.0",
      "model_name": "LayoutModel",
      "state": {}
     },
     "cef06bd74ad24c4887466ff40bc012cd": {
      "model_module": "@jupyter-widgets/base",
      "model_module_version": "1.2.0",
      "model_name": "LayoutModel",
      "state": {}
     },
     "d2db3eb012f5434898de7ab8db25ba77": {
      "model_module": "@jupyter-widgets/controls",
      "model_module_version": "1.5.0",
      "model_name": "DescriptionStyleModel",
      "state": {
       "description_width": ""
      }
     },
     "d665de8e961c4c7dab6fc39a058cbebd": {
      "model_module": "@jupyter-widgets/base",
      "model_module_version": "1.2.0",
      "model_name": "LayoutModel",
      "state": {}
     },
     "d87c5a2bd161479593d3ca18719583cd": {
      "model_module": "@jupyter-widgets/controls",
      "model_module_version": "1.5.0",
      "model_name": "ButtonModel",
      "state": {
       "description": "Genre",
       "layout": "IPY_MODEL_13b06a51b82549649844eb14fc8eabc8",
       "style": "IPY_MODEL_758bb7bf02c54edc8052d72ad1b3df03"
      }
     },
     "dcfb07d7c5164943b409f37d8ea45681": {
      "model_module": "@jupyter-widgets/controls",
      "model_module_version": "1.5.0",
      "model_name": "ButtonStyleModel",
      "state": {}
     },
     "dda1629b94f74cdf92e6bc75fbb37a1d": {
      "model_module": "@jupyter-widgets/controls",
      "model_module_version": "1.5.0",
      "model_name": "ButtonModel",
      "state": {
       "description": "Run Interact",
       "layout": "IPY_MODEL_d665de8e961c4c7dab6fc39a058cbebd",
       "style": "IPY_MODEL_de0dae7637b14dee9aae92cefbad4bc4"
      }
     },
     "de0dae7637b14dee9aae92cefbad4bc4": {
      "model_module": "@jupyter-widgets/controls",
      "model_module_version": "1.5.0",
      "model_name": "ButtonStyleModel",
      "state": {}
     },
     "dfe9c9c355dc4047b8b253cad8223923": {
      "model_module": "@jupyter-widgets/controls",
      "model_module_version": "1.5.0",
      "model_name": "ButtonStyleModel",
      "state": {}
     },
     "e1070251d9714c8b93445347b5c62fc5": {
      "model_module": "@jupyter-widgets/controls",
      "model_module_version": "1.5.0",
      "model_name": "ButtonModel",
      "state": {
       "description": "Run Interact",
       "layout": "IPY_MODEL_f0050da31d254b8a8da7bf8f34169ef5",
       "style": "IPY_MODEL_dfe9c9c355dc4047b8b253cad8223923"
      }
     },
     "e1ea35349e0a417b983c87b635c7a061": {
      "model_module": "@jupyter-widgets/controls",
      "model_module_version": "1.5.0",
      "model_name": "DescriptionStyleModel",
      "state": {
       "description_width": ""
      }
     },
     "e4540619bc814021ae712335c96e809e": {
      "model_module": "@jupyter-widgets/base",
      "model_module_version": "1.2.0",
      "model_name": "LayoutModel",
      "state": {}
     },
     "e6aa7bab79ed4a12927e7b96ec8c7dbe": {
      "model_module": "@jupyter-widgets/controls",
      "model_module_version": "1.5.0",
      "model_name": "VBoxModel",
      "state": {
       "_dom_classes": [
        "widget-interact"
       ],
       "children": [
        "IPY_MODEL_69080f3878874e4b98b78beb8bc057d9",
        "IPY_MODEL_116783b553eb4edf86d198d5203ed803",
        "IPY_MODEL_fba0623506724539a7953d4c0e7baaa2"
       ],
       "layout": "IPY_MODEL_34080e8556904c9aa25ce8210b3285c0"
      }
     },
     "efe7d86b80e542d09020418d0eb9de46": {
      "model_module": "@jupyter-widgets/output",
      "model_module_version": "1.0.0",
      "model_name": "OutputModel",
      "state": {
       "layout": "IPY_MODEL_ba8496297f9c407e98a8b8e238727ffd"
      }
     },
     "f0050da31d254b8a8da7bf8f34169ef5": {
      "model_module": "@jupyter-widgets/base",
      "model_module_version": "1.2.0",
      "model_name": "LayoutModel",
      "state": {}
     },
     "f032cf7cedcf4b8fbb516dafc898b7c0": {
      "model_module": "@jupyter-widgets/controls",
      "model_module_version": "1.5.0",
      "model_name": "DropdownModel",
      "state": {
       "_options_labels": [
        "Genre",
        "Rating",
        "Heatmap"
       ],
       "description": "Select",
       "index": 0,
       "layout": "IPY_MODEL_8b5e1542af1d4771819252cf8d3fc410",
       "style": "IPY_MODEL_caf467d45c8a4ec9bc946a93e9f7de9a"
      }
     },
     "f5fcb711697a44019c1663ba937ae4ea": {
      "model_module": "@jupyter-widgets/controls",
      "model_module_version": "1.5.0",
      "model_name": "DropdownModel",
      "state": {
       "_options_labels": [
        "Genre",
        "Rating",
        "Heatmap"
       ],
       "description": "Select",
       "index": 0,
       "layout": "IPY_MODEL_063358556c754c81b7efc63e3eb103b7",
       "style": "IPY_MODEL_d2db3eb012f5434898de7ab8db25ba77"
      }
     },
     "f9d218f477564144879a9f3b24d66c6f": {
      "model_module": "@jupyter-widgets/base",
      "model_module_version": "1.2.0",
      "model_name": "LayoutModel",
      "state": {}
     },
     "fba0623506724539a7953d4c0e7baaa2": {
      "model_module": "@jupyter-widgets/output",
      "model_module_version": "1.0.0",
      "model_name": "OutputModel",
      "state": {
       "layout": "IPY_MODEL_a43fd0e3262c483c8a7ffea10b289db0"
      }
     },
     "fbf54b0f70794c878694cf03659221da": {
      "model_module": "@jupyter-widgets/base",
      "model_module_version": "1.2.0",
      "model_name": "LayoutModel",
      "state": {}
     },
     "fccf2b8986ca496bbdfd827d4fb1a138": {
      "model_module": "@jupyter-widgets/controls",
      "model_module_version": "1.5.0",
      "model_name": "ButtonModel",
      "state": {
       "description": "Genre",
       "layout": "IPY_MODEL_e4540619bc814021ae712335c96e809e",
       "style": "IPY_MODEL_6cfae15de19a4dde8c19884227a73c32"
      }
     },
     "ffd8a5b53a0c4b8a9386d46758bbba01": {
      "model_module": "@jupyter-widgets/controls",
      "model_module_version": "1.5.0",
      "model_name": "VBoxModel",
      "state": {
       "_dom_classes": [
        "widget-interact"
       ],
       "children": [
        "IPY_MODEL_67772d12d53f49df9406fc260268cf7a",
        "IPY_MODEL_5af3c036ad6a4f0598212c99f61fb3d4",
        "IPY_MODEL_1c57e87f4c3a420cbd21548e308ea479"
       ],
       "layout": "IPY_MODEL_8eeee91b66104384ba83c19c6bb5ad17"
      }
     }
    },
    "version_major": 2,
    "version_minor": 0
   }
  }
 },
 "nbformat": 4,
 "nbformat_minor": 5
}
